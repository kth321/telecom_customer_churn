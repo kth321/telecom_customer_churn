{
 "cells": [
  {
   "cell_type": "code",
   "execution_count": 63,
   "id": "e2ce9615",
   "metadata": {},
   "outputs": [],
   "source": [
    "import pandas as pd\n",
    "import numpy as np\n",
    "import matplotlib.pyplot as plt\n",
    "import seaborn as sns"
   ]
  },
  {
   "cell_type": "code",
   "execution_count": 3,
   "id": "64f60463",
   "metadata": {},
   "outputs": [
    {
     "name": "stdout",
     "output_type": "stream",
     "text": [
      "EDA.ipynb          churn-bigml-20.csv churn-bigml-80.csv churn.csv\r\n"
     ]
    }
   ],
   "source": [
    "!ls"
   ]
  },
  {
   "cell_type": "markdown",
   "id": "573b2021",
   "metadata": {},
   "source": [
    "## Data Integration"
   ]
  },
  {
   "cell_type": "code",
   "execution_count": 4,
   "id": "7307bbd3",
   "metadata": {},
   "outputs": [
    {
     "data": {
      "text/html": [
       "<div>\n",
       "<style scoped>\n",
       "    .dataframe tbody tr th:only-of-type {\n",
       "        vertical-align: middle;\n",
       "    }\n",
       "\n",
       "    .dataframe tbody tr th {\n",
       "        vertical-align: top;\n",
       "    }\n",
       "\n",
       "    .dataframe thead th {\n",
       "        text-align: right;\n",
       "    }\n",
       "</style>\n",
       "<table border=\"1\" class=\"dataframe\">\n",
       "  <thead>\n",
       "    <tr style=\"text-align: right;\">\n",
       "      <th></th>\n",
       "      <th>State</th>\n",
       "      <th>Account length</th>\n",
       "      <th>Area code</th>\n",
       "      <th>International plan</th>\n",
       "      <th>Voice mail plan</th>\n",
       "      <th>Number vmail messages</th>\n",
       "      <th>Total day minutes</th>\n",
       "      <th>Total day calls</th>\n",
       "      <th>Total day charge</th>\n",
       "      <th>Total eve minutes</th>\n",
       "      <th>Total eve calls</th>\n",
       "      <th>Total eve charge</th>\n",
       "      <th>Total night minutes</th>\n",
       "      <th>Total night calls</th>\n",
       "      <th>Total night charge</th>\n",
       "      <th>Total intl minutes</th>\n",
       "      <th>Total intl calls</th>\n",
       "      <th>Total intl charge</th>\n",
       "      <th>Customer service calls</th>\n",
       "      <th>Churn</th>\n",
       "    </tr>\n",
       "  </thead>\n",
       "  <tbody>\n",
       "    <tr>\n",
       "      <th>0</th>\n",
       "      <td>LA</td>\n",
       "      <td>117</td>\n",
       "      <td>408</td>\n",
       "      <td>No</td>\n",
       "      <td>No</td>\n",
       "      <td>0</td>\n",
       "      <td>184.5</td>\n",
       "      <td>97</td>\n",
       "      <td>31.37</td>\n",
       "      <td>351.6</td>\n",
       "      <td>80</td>\n",
       "      <td>29.89</td>\n",
       "      <td>215.8</td>\n",
       "      <td>90</td>\n",
       "      <td>9.71</td>\n",
       "      <td>8.7</td>\n",
       "      <td>4</td>\n",
       "      <td>2.35</td>\n",
       "      <td>1</td>\n",
       "      <td>False</td>\n",
       "    </tr>\n",
       "    <tr>\n",
       "      <th>1</th>\n",
       "      <td>IN</td>\n",
       "      <td>65</td>\n",
       "      <td>415</td>\n",
       "      <td>No</td>\n",
       "      <td>No</td>\n",
       "      <td>0</td>\n",
       "      <td>129.1</td>\n",
       "      <td>137</td>\n",
       "      <td>21.95</td>\n",
       "      <td>228.5</td>\n",
       "      <td>83</td>\n",
       "      <td>19.42</td>\n",
       "      <td>208.8</td>\n",
       "      <td>111</td>\n",
       "      <td>9.40</td>\n",
       "      <td>12.7</td>\n",
       "      <td>6</td>\n",
       "      <td>3.43</td>\n",
       "      <td>4</td>\n",
       "      <td>True</td>\n",
       "    </tr>\n",
       "    <tr>\n",
       "      <th>2</th>\n",
       "      <td>NY</td>\n",
       "      <td>161</td>\n",
       "      <td>415</td>\n",
       "      <td>No</td>\n",
       "      <td>No</td>\n",
       "      <td>0</td>\n",
       "      <td>332.9</td>\n",
       "      <td>67</td>\n",
       "      <td>56.59</td>\n",
       "      <td>317.8</td>\n",
       "      <td>97</td>\n",
       "      <td>27.01</td>\n",
       "      <td>160.6</td>\n",
       "      <td>128</td>\n",
       "      <td>7.23</td>\n",
       "      <td>5.4</td>\n",
       "      <td>9</td>\n",
       "      <td>1.46</td>\n",
       "      <td>4</td>\n",
       "      <td>True</td>\n",
       "    </tr>\n",
       "    <tr>\n",
       "      <th>3</th>\n",
       "      <td>SC</td>\n",
       "      <td>111</td>\n",
       "      <td>415</td>\n",
       "      <td>No</td>\n",
       "      <td>No</td>\n",
       "      <td>0</td>\n",
       "      <td>110.4</td>\n",
       "      <td>103</td>\n",
       "      <td>18.77</td>\n",
       "      <td>137.3</td>\n",
       "      <td>102</td>\n",
       "      <td>11.67</td>\n",
       "      <td>189.6</td>\n",
       "      <td>105</td>\n",
       "      <td>8.53</td>\n",
       "      <td>7.7</td>\n",
       "      <td>6</td>\n",
       "      <td>2.08</td>\n",
       "      <td>2</td>\n",
       "      <td>False</td>\n",
       "    </tr>\n",
       "    <tr>\n",
       "      <th>4</th>\n",
       "      <td>HI</td>\n",
       "      <td>49</td>\n",
       "      <td>510</td>\n",
       "      <td>No</td>\n",
       "      <td>No</td>\n",
       "      <td>0</td>\n",
       "      <td>119.3</td>\n",
       "      <td>117</td>\n",
       "      <td>20.28</td>\n",
       "      <td>215.1</td>\n",
       "      <td>109</td>\n",
       "      <td>18.28</td>\n",
       "      <td>178.7</td>\n",
       "      <td>90</td>\n",
       "      <td>8.04</td>\n",
       "      <td>11.1</td>\n",
       "      <td>1</td>\n",
       "      <td>3.00</td>\n",
       "      <td>1</td>\n",
       "      <td>False</td>\n",
       "    </tr>\n",
       "  </tbody>\n",
       "</table>\n",
       "</div>"
      ],
      "text/plain": [
       "  State  Account length  Area code International plan Voice mail plan  \\\n",
       "0    LA             117        408                 No              No   \n",
       "1    IN              65        415                 No              No   \n",
       "2    NY             161        415                 No              No   \n",
       "3    SC             111        415                 No              No   \n",
       "4    HI              49        510                 No              No   \n",
       "\n",
       "   Number vmail messages  Total day minutes  Total day calls  \\\n",
       "0                      0              184.5               97   \n",
       "1                      0              129.1              137   \n",
       "2                      0              332.9               67   \n",
       "3                      0              110.4              103   \n",
       "4                      0              119.3              117   \n",
       "\n",
       "   Total day charge  Total eve minutes  Total eve calls  Total eve charge  \\\n",
       "0             31.37              351.6               80             29.89   \n",
       "1             21.95              228.5               83             19.42   \n",
       "2             56.59              317.8               97             27.01   \n",
       "3             18.77              137.3              102             11.67   \n",
       "4             20.28              215.1              109             18.28   \n",
       "\n",
       "   Total night minutes  Total night calls  Total night charge  \\\n",
       "0                215.8                 90                9.71   \n",
       "1                208.8                111                9.40   \n",
       "2                160.6                128                7.23   \n",
       "3                189.6                105                8.53   \n",
       "4                178.7                 90                8.04   \n",
       "\n",
       "   Total intl minutes  Total intl calls  Total intl charge  \\\n",
       "0                 8.7                 4               2.35   \n",
       "1                12.7                 6               3.43   \n",
       "2                 5.4                 9               1.46   \n",
       "3                 7.7                 6               2.08   \n",
       "4                11.1                 1               3.00   \n",
       "\n",
       "   Customer service calls  Churn  \n",
       "0                       1  False  \n",
       "1                       4   True  \n",
       "2                       4   True  \n",
       "3                       2  False  \n",
       "4                       1  False  "
      ]
     },
     "execution_count": 4,
     "metadata": {},
     "output_type": "execute_result"
    }
   ],
   "source": [
    "churn_20 = pd.read_csv('churn-bigml-20.csv')\n",
    "churn_20.head()"
   ]
  },
  {
   "cell_type": "code",
   "execution_count": 5,
   "id": "68bc4db8",
   "metadata": {},
   "outputs": [
    {
     "name": "stdout",
     "output_type": "stream",
     "text": [
      "<class 'pandas.core.frame.DataFrame'>\n",
      "RangeIndex: 667 entries, 0 to 666\n",
      "Data columns (total 20 columns):\n",
      " #   Column                  Non-Null Count  Dtype  \n",
      "---  ------                  --------------  -----  \n",
      " 0   State                   667 non-null    object \n",
      " 1   Account length          667 non-null    int64  \n",
      " 2   Area code               667 non-null    int64  \n",
      " 3   International plan      667 non-null    object \n",
      " 4   Voice mail plan         667 non-null    object \n",
      " 5   Number vmail messages   667 non-null    int64  \n",
      " 6   Total day minutes       667 non-null    float64\n",
      " 7   Total day calls         667 non-null    int64  \n",
      " 8   Total day charge        667 non-null    float64\n",
      " 9   Total eve minutes       667 non-null    float64\n",
      " 10  Total eve calls         667 non-null    int64  \n",
      " 11  Total eve charge        667 non-null    float64\n",
      " 12  Total night minutes     667 non-null    float64\n",
      " 13  Total night calls       667 non-null    int64  \n",
      " 14  Total night charge      667 non-null    float64\n",
      " 15  Total intl minutes      667 non-null    float64\n",
      " 16  Total intl calls        667 non-null    int64  \n",
      " 17  Total intl charge       667 non-null    float64\n",
      " 18  Customer service calls  667 non-null    int64  \n",
      " 19  Churn                   667 non-null    bool   \n",
      "dtypes: bool(1), float64(8), int64(8), object(3)\n",
      "memory usage: 99.8+ KB\n"
     ]
    }
   ],
   "source": [
    "churn_20.info()"
   ]
  },
  {
   "cell_type": "code",
   "execution_count": 6,
   "id": "cdab3327",
   "metadata": {},
   "outputs": [
    {
     "data": {
      "text/html": [
       "<div>\n",
       "<style scoped>\n",
       "    .dataframe tbody tr th:only-of-type {\n",
       "        vertical-align: middle;\n",
       "    }\n",
       "\n",
       "    .dataframe tbody tr th {\n",
       "        vertical-align: top;\n",
       "    }\n",
       "\n",
       "    .dataframe thead th {\n",
       "        text-align: right;\n",
       "    }\n",
       "</style>\n",
       "<table border=\"1\" class=\"dataframe\">\n",
       "  <thead>\n",
       "    <tr style=\"text-align: right;\">\n",
       "      <th></th>\n",
       "      <th>State</th>\n",
       "      <th>Account length</th>\n",
       "      <th>Area code</th>\n",
       "      <th>International plan</th>\n",
       "      <th>Voice mail plan</th>\n",
       "      <th>Number vmail messages</th>\n",
       "      <th>Total day minutes</th>\n",
       "      <th>Total day calls</th>\n",
       "      <th>Total day charge</th>\n",
       "      <th>Total eve minutes</th>\n",
       "      <th>Total eve calls</th>\n",
       "      <th>Total eve charge</th>\n",
       "      <th>Total night minutes</th>\n",
       "      <th>Total night calls</th>\n",
       "      <th>Total night charge</th>\n",
       "      <th>Total intl minutes</th>\n",
       "      <th>Total intl calls</th>\n",
       "      <th>Total intl charge</th>\n",
       "      <th>Customer service calls</th>\n",
       "      <th>Churn</th>\n",
       "    </tr>\n",
       "  </thead>\n",
       "  <tbody>\n",
       "    <tr>\n",
       "      <th>0</th>\n",
       "      <td>KS</td>\n",
       "      <td>128</td>\n",
       "      <td>415</td>\n",
       "      <td>No</td>\n",
       "      <td>Yes</td>\n",
       "      <td>25</td>\n",
       "      <td>265.1</td>\n",
       "      <td>110</td>\n",
       "      <td>45.07</td>\n",
       "      <td>197.4</td>\n",
       "      <td>99</td>\n",
       "      <td>16.78</td>\n",
       "      <td>244.7</td>\n",
       "      <td>91</td>\n",
       "      <td>11.01</td>\n",
       "      <td>10.0</td>\n",
       "      <td>3</td>\n",
       "      <td>2.70</td>\n",
       "      <td>1</td>\n",
       "      <td>False</td>\n",
       "    </tr>\n",
       "    <tr>\n",
       "      <th>1</th>\n",
       "      <td>OH</td>\n",
       "      <td>107</td>\n",
       "      <td>415</td>\n",
       "      <td>No</td>\n",
       "      <td>Yes</td>\n",
       "      <td>26</td>\n",
       "      <td>161.6</td>\n",
       "      <td>123</td>\n",
       "      <td>27.47</td>\n",
       "      <td>195.5</td>\n",
       "      <td>103</td>\n",
       "      <td>16.62</td>\n",
       "      <td>254.4</td>\n",
       "      <td>103</td>\n",
       "      <td>11.45</td>\n",
       "      <td>13.7</td>\n",
       "      <td>3</td>\n",
       "      <td>3.70</td>\n",
       "      <td>1</td>\n",
       "      <td>False</td>\n",
       "    </tr>\n",
       "    <tr>\n",
       "      <th>2</th>\n",
       "      <td>NJ</td>\n",
       "      <td>137</td>\n",
       "      <td>415</td>\n",
       "      <td>No</td>\n",
       "      <td>No</td>\n",
       "      <td>0</td>\n",
       "      <td>243.4</td>\n",
       "      <td>114</td>\n",
       "      <td>41.38</td>\n",
       "      <td>121.2</td>\n",
       "      <td>110</td>\n",
       "      <td>10.30</td>\n",
       "      <td>162.6</td>\n",
       "      <td>104</td>\n",
       "      <td>7.32</td>\n",
       "      <td>12.2</td>\n",
       "      <td>5</td>\n",
       "      <td>3.29</td>\n",
       "      <td>0</td>\n",
       "      <td>False</td>\n",
       "    </tr>\n",
       "    <tr>\n",
       "      <th>3</th>\n",
       "      <td>OH</td>\n",
       "      <td>84</td>\n",
       "      <td>408</td>\n",
       "      <td>Yes</td>\n",
       "      <td>No</td>\n",
       "      <td>0</td>\n",
       "      <td>299.4</td>\n",
       "      <td>71</td>\n",
       "      <td>50.90</td>\n",
       "      <td>61.9</td>\n",
       "      <td>88</td>\n",
       "      <td>5.26</td>\n",
       "      <td>196.9</td>\n",
       "      <td>89</td>\n",
       "      <td>8.86</td>\n",
       "      <td>6.6</td>\n",
       "      <td>7</td>\n",
       "      <td>1.78</td>\n",
       "      <td>2</td>\n",
       "      <td>False</td>\n",
       "    </tr>\n",
       "    <tr>\n",
       "      <th>4</th>\n",
       "      <td>OK</td>\n",
       "      <td>75</td>\n",
       "      <td>415</td>\n",
       "      <td>Yes</td>\n",
       "      <td>No</td>\n",
       "      <td>0</td>\n",
       "      <td>166.7</td>\n",
       "      <td>113</td>\n",
       "      <td>28.34</td>\n",
       "      <td>148.3</td>\n",
       "      <td>122</td>\n",
       "      <td>12.61</td>\n",
       "      <td>186.9</td>\n",
       "      <td>121</td>\n",
       "      <td>8.41</td>\n",
       "      <td>10.1</td>\n",
       "      <td>3</td>\n",
       "      <td>2.73</td>\n",
       "      <td>3</td>\n",
       "      <td>False</td>\n",
       "    </tr>\n",
       "  </tbody>\n",
       "</table>\n",
       "</div>"
      ],
      "text/plain": [
       "  State  Account length  Area code International plan Voice mail plan  \\\n",
       "0    KS             128        415                 No             Yes   \n",
       "1    OH             107        415                 No             Yes   \n",
       "2    NJ             137        415                 No              No   \n",
       "3    OH              84        408                Yes              No   \n",
       "4    OK              75        415                Yes              No   \n",
       "\n",
       "   Number vmail messages  Total day minutes  Total day calls  \\\n",
       "0                     25              265.1              110   \n",
       "1                     26              161.6              123   \n",
       "2                      0              243.4              114   \n",
       "3                      0              299.4               71   \n",
       "4                      0              166.7              113   \n",
       "\n",
       "   Total day charge  Total eve minutes  Total eve calls  Total eve charge  \\\n",
       "0             45.07              197.4               99             16.78   \n",
       "1             27.47              195.5              103             16.62   \n",
       "2             41.38              121.2              110             10.30   \n",
       "3             50.90               61.9               88              5.26   \n",
       "4             28.34              148.3              122             12.61   \n",
       "\n",
       "   Total night minutes  Total night calls  Total night charge  \\\n",
       "0                244.7                 91               11.01   \n",
       "1                254.4                103               11.45   \n",
       "2                162.6                104                7.32   \n",
       "3                196.9                 89                8.86   \n",
       "4                186.9                121                8.41   \n",
       "\n",
       "   Total intl minutes  Total intl calls  Total intl charge  \\\n",
       "0                10.0                 3               2.70   \n",
       "1                13.7                 3               3.70   \n",
       "2                12.2                 5               3.29   \n",
       "3                 6.6                 7               1.78   \n",
       "4                10.1                 3               2.73   \n",
       "\n",
       "   Customer service calls  Churn  \n",
       "0                       1  False  \n",
       "1                       1  False  \n",
       "2                       0  False  \n",
       "3                       2  False  \n",
       "4                       3  False  "
      ]
     },
     "execution_count": 6,
     "metadata": {},
     "output_type": "execute_result"
    }
   ],
   "source": [
    "churn_80 = pd.read_csv('churn-bigml-80.csv')\n",
    "churn_80.head()"
   ]
  },
  {
   "cell_type": "code",
   "execution_count": 7,
   "id": "88ee4766",
   "metadata": {},
   "outputs": [
    {
     "name": "stdout",
     "output_type": "stream",
     "text": [
      "<class 'pandas.core.frame.DataFrame'>\n",
      "RangeIndex: 2666 entries, 0 to 2665\n",
      "Data columns (total 20 columns):\n",
      " #   Column                  Non-Null Count  Dtype  \n",
      "---  ------                  --------------  -----  \n",
      " 0   State                   2666 non-null   object \n",
      " 1   Account length          2666 non-null   int64  \n",
      " 2   Area code               2666 non-null   int64  \n",
      " 3   International plan      2666 non-null   object \n",
      " 4   Voice mail plan         2666 non-null   object \n",
      " 5   Number vmail messages   2666 non-null   int64  \n",
      " 6   Total day minutes       2666 non-null   float64\n",
      " 7   Total day calls         2666 non-null   int64  \n",
      " 8   Total day charge        2666 non-null   float64\n",
      " 9   Total eve minutes       2666 non-null   float64\n",
      " 10  Total eve calls         2666 non-null   int64  \n",
      " 11  Total eve charge        2666 non-null   float64\n",
      " 12  Total night minutes     2666 non-null   float64\n",
      " 13  Total night calls       2666 non-null   int64  \n",
      " 14  Total night charge      2666 non-null   float64\n",
      " 15  Total intl minutes      2666 non-null   float64\n",
      " 16  Total intl calls        2666 non-null   int64  \n",
      " 17  Total intl charge       2666 non-null   float64\n",
      " 18  Customer service calls  2666 non-null   int64  \n",
      " 19  Churn                   2666 non-null   bool   \n",
      "dtypes: bool(1), float64(8), int64(8), object(3)\n",
      "memory usage: 398.5+ KB\n"
     ]
    }
   ],
   "source": [
    "churn_80.info()"
   ]
  },
  {
   "cell_type": "code",
   "execution_count": 8,
   "id": "5c6e8fe8",
   "metadata": {},
   "outputs": [
    {
     "name": "stdout",
     "output_type": "stream",
     "text": [
      "<class 'pandas.core.frame.DataFrame'>\n",
      "Int64Index: 3333 entries, 0 to 2665\n",
      "Data columns (total 20 columns):\n",
      " #   Column                  Non-Null Count  Dtype  \n",
      "---  ------                  --------------  -----  \n",
      " 0   State                   3333 non-null   object \n",
      " 1   Account length          3333 non-null   int64  \n",
      " 2   Area code               3333 non-null   int64  \n",
      " 3   International plan      3333 non-null   object \n",
      " 4   Voice mail plan         3333 non-null   object \n",
      " 5   Number vmail messages   3333 non-null   int64  \n",
      " 6   Total day minutes       3333 non-null   float64\n",
      " 7   Total day calls         3333 non-null   int64  \n",
      " 8   Total day charge        3333 non-null   float64\n",
      " 9   Total eve minutes       3333 non-null   float64\n",
      " 10  Total eve calls         3333 non-null   int64  \n",
      " 11  Total eve charge        3333 non-null   float64\n",
      " 12  Total night minutes     3333 non-null   float64\n",
      " 13  Total night calls       3333 non-null   int64  \n",
      " 14  Total night charge      3333 non-null   float64\n",
      " 15  Total intl minutes      3333 non-null   float64\n",
      " 16  Total intl calls        3333 non-null   int64  \n",
      " 17  Total intl charge       3333 non-null   float64\n",
      " 18  Customer service calls  3333 non-null   int64  \n",
      " 19  Churn                   3333 non-null   bool   \n",
      "dtypes: bool(1), float64(8), int64(8), object(3)\n",
      "memory usage: 524.0+ KB\n"
     ]
    }
   ],
   "source": [
    "data = pd.concat([churn_20, churn_80])\n",
    "data.info()"
   ]
  },
  {
   "cell_type": "markdown",
   "id": "ae4ad98b",
   "metadata": {},
   "source": [
    "데이터 전처리를 위해 나누어져 있던 train data와 test data를 통합"
   ]
  },
  {
   "cell_type": "code",
   "execution_count": 9,
   "id": "adca20b7",
   "metadata": {},
   "outputs": [
    {
     "data": {
      "text/plain": [
       "State                     0\n",
       "Account length            0\n",
       "Area code                 0\n",
       "International plan        0\n",
       "Voice mail plan           0\n",
       "Number vmail messages     0\n",
       "Total day minutes         0\n",
       "Total day calls           0\n",
       "Total day charge          0\n",
       "Total eve minutes         0\n",
       "Total eve calls           0\n",
       "Total eve charge          0\n",
       "Total night minutes       0\n",
       "Total night calls         0\n",
       "Total night charge        0\n",
       "Total intl minutes        0\n",
       "Total intl calls          0\n",
       "Total intl charge         0\n",
       "Customer service calls    0\n",
       "Churn                     0\n",
       "dtype: int64"
      ]
     },
     "execution_count": 9,
     "metadata": {},
     "output_type": "execute_result"
    }
   ],
   "source": [
    "data.isna().sum()"
   ]
  },
  {
   "cell_type": "markdown",
   "id": "1566bce6",
   "metadata": {},
   "source": [
    "이상치가 없음을 확인할 수 있다."
   ]
  },
  {
   "cell_type": "code",
   "execution_count": 10,
   "id": "d16a9cd2",
   "metadata": {},
   "outputs": [
    {
     "data": {
      "text/html": [
       "<div>\n",
       "<style scoped>\n",
       "    .dataframe tbody tr th:only-of-type {\n",
       "        vertical-align: middle;\n",
       "    }\n",
       "\n",
       "    .dataframe tbody tr th {\n",
       "        vertical-align: top;\n",
       "    }\n",
       "\n",
       "    .dataframe thead th {\n",
       "        text-align: right;\n",
       "    }\n",
       "</style>\n",
       "<table border=\"1\" class=\"dataframe\">\n",
       "  <thead>\n",
       "    <tr style=\"text-align: right;\">\n",
       "      <th></th>\n",
       "      <th>Account length</th>\n",
       "      <th>Area code</th>\n",
       "      <th>Number vmail messages</th>\n",
       "      <th>Total day minutes</th>\n",
       "      <th>Total day calls</th>\n",
       "      <th>Total day charge</th>\n",
       "      <th>Total eve minutes</th>\n",
       "      <th>Total eve calls</th>\n",
       "      <th>Total eve charge</th>\n",
       "      <th>Total night minutes</th>\n",
       "      <th>Total night calls</th>\n",
       "      <th>Total night charge</th>\n",
       "      <th>Total intl minutes</th>\n",
       "      <th>Total intl calls</th>\n",
       "      <th>Total intl charge</th>\n",
       "      <th>Customer service calls</th>\n",
       "    </tr>\n",
       "  </thead>\n",
       "  <tbody>\n",
       "    <tr>\n",
       "      <th>count</th>\n",
       "      <td>3333.000000</td>\n",
       "      <td>3333.000000</td>\n",
       "      <td>3333.000000</td>\n",
       "      <td>3333.000000</td>\n",
       "      <td>3333.000000</td>\n",
       "      <td>3333.000000</td>\n",
       "      <td>3333.000000</td>\n",
       "      <td>3333.000000</td>\n",
       "      <td>3333.000000</td>\n",
       "      <td>3333.000000</td>\n",
       "      <td>3333.000000</td>\n",
       "      <td>3333.000000</td>\n",
       "      <td>3333.000000</td>\n",
       "      <td>3333.000000</td>\n",
       "      <td>3333.000000</td>\n",
       "      <td>3333.000000</td>\n",
       "    </tr>\n",
       "    <tr>\n",
       "      <th>mean</th>\n",
       "      <td>101.064806</td>\n",
       "      <td>437.182418</td>\n",
       "      <td>8.099010</td>\n",
       "      <td>179.775098</td>\n",
       "      <td>100.435644</td>\n",
       "      <td>30.562307</td>\n",
       "      <td>200.980348</td>\n",
       "      <td>100.114311</td>\n",
       "      <td>17.083540</td>\n",
       "      <td>200.872037</td>\n",
       "      <td>100.107711</td>\n",
       "      <td>9.039325</td>\n",
       "      <td>10.237294</td>\n",
       "      <td>4.479448</td>\n",
       "      <td>2.764581</td>\n",
       "      <td>1.562856</td>\n",
       "    </tr>\n",
       "    <tr>\n",
       "      <th>std</th>\n",
       "      <td>39.822106</td>\n",
       "      <td>42.371290</td>\n",
       "      <td>13.688365</td>\n",
       "      <td>54.467389</td>\n",
       "      <td>20.069084</td>\n",
       "      <td>9.259435</td>\n",
       "      <td>50.713844</td>\n",
       "      <td>19.922625</td>\n",
       "      <td>4.310668</td>\n",
       "      <td>50.573847</td>\n",
       "      <td>19.568609</td>\n",
       "      <td>2.275873</td>\n",
       "      <td>2.791840</td>\n",
       "      <td>2.461214</td>\n",
       "      <td>0.753773</td>\n",
       "      <td>1.315491</td>\n",
       "    </tr>\n",
       "    <tr>\n",
       "      <th>min</th>\n",
       "      <td>1.000000</td>\n",
       "      <td>408.000000</td>\n",
       "      <td>0.000000</td>\n",
       "      <td>0.000000</td>\n",
       "      <td>0.000000</td>\n",
       "      <td>0.000000</td>\n",
       "      <td>0.000000</td>\n",
       "      <td>0.000000</td>\n",
       "      <td>0.000000</td>\n",
       "      <td>23.200000</td>\n",
       "      <td>33.000000</td>\n",
       "      <td>1.040000</td>\n",
       "      <td>0.000000</td>\n",
       "      <td>0.000000</td>\n",
       "      <td>0.000000</td>\n",
       "      <td>0.000000</td>\n",
       "    </tr>\n",
       "    <tr>\n",
       "      <th>25%</th>\n",
       "      <td>74.000000</td>\n",
       "      <td>408.000000</td>\n",
       "      <td>0.000000</td>\n",
       "      <td>143.700000</td>\n",
       "      <td>87.000000</td>\n",
       "      <td>24.430000</td>\n",
       "      <td>166.600000</td>\n",
       "      <td>87.000000</td>\n",
       "      <td>14.160000</td>\n",
       "      <td>167.000000</td>\n",
       "      <td>87.000000</td>\n",
       "      <td>7.520000</td>\n",
       "      <td>8.500000</td>\n",
       "      <td>3.000000</td>\n",
       "      <td>2.300000</td>\n",
       "      <td>1.000000</td>\n",
       "    </tr>\n",
       "    <tr>\n",
       "      <th>50%</th>\n",
       "      <td>101.000000</td>\n",
       "      <td>415.000000</td>\n",
       "      <td>0.000000</td>\n",
       "      <td>179.400000</td>\n",
       "      <td>101.000000</td>\n",
       "      <td>30.500000</td>\n",
       "      <td>201.400000</td>\n",
       "      <td>100.000000</td>\n",
       "      <td>17.120000</td>\n",
       "      <td>201.200000</td>\n",
       "      <td>100.000000</td>\n",
       "      <td>9.050000</td>\n",
       "      <td>10.300000</td>\n",
       "      <td>4.000000</td>\n",
       "      <td>2.780000</td>\n",
       "      <td>1.000000</td>\n",
       "    </tr>\n",
       "    <tr>\n",
       "      <th>75%</th>\n",
       "      <td>127.000000</td>\n",
       "      <td>510.000000</td>\n",
       "      <td>20.000000</td>\n",
       "      <td>216.400000</td>\n",
       "      <td>114.000000</td>\n",
       "      <td>36.790000</td>\n",
       "      <td>235.300000</td>\n",
       "      <td>114.000000</td>\n",
       "      <td>20.000000</td>\n",
       "      <td>235.300000</td>\n",
       "      <td>113.000000</td>\n",
       "      <td>10.590000</td>\n",
       "      <td>12.100000</td>\n",
       "      <td>6.000000</td>\n",
       "      <td>3.270000</td>\n",
       "      <td>2.000000</td>\n",
       "    </tr>\n",
       "    <tr>\n",
       "      <th>max</th>\n",
       "      <td>243.000000</td>\n",
       "      <td>510.000000</td>\n",
       "      <td>51.000000</td>\n",
       "      <td>350.800000</td>\n",
       "      <td>165.000000</td>\n",
       "      <td>59.640000</td>\n",
       "      <td>363.700000</td>\n",
       "      <td>170.000000</td>\n",
       "      <td>30.910000</td>\n",
       "      <td>395.000000</td>\n",
       "      <td>175.000000</td>\n",
       "      <td>17.770000</td>\n",
       "      <td>20.000000</td>\n",
       "      <td>20.000000</td>\n",
       "      <td>5.400000</td>\n",
       "      <td>9.000000</td>\n",
       "    </tr>\n",
       "  </tbody>\n",
       "</table>\n",
       "</div>"
      ],
      "text/plain": [
       "       Account length    Area code  Number vmail messages  Total day minutes  \\\n",
       "count     3333.000000  3333.000000            3333.000000        3333.000000   \n",
       "mean       101.064806   437.182418               8.099010         179.775098   \n",
       "std         39.822106    42.371290              13.688365          54.467389   \n",
       "min          1.000000   408.000000               0.000000           0.000000   \n",
       "25%         74.000000   408.000000               0.000000         143.700000   \n",
       "50%        101.000000   415.000000               0.000000         179.400000   \n",
       "75%        127.000000   510.000000              20.000000         216.400000   \n",
       "max        243.000000   510.000000              51.000000         350.800000   \n",
       "\n",
       "       Total day calls  Total day charge  Total eve minutes  Total eve calls  \\\n",
       "count      3333.000000       3333.000000        3333.000000      3333.000000   \n",
       "mean        100.435644         30.562307         200.980348       100.114311   \n",
       "std          20.069084          9.259435          50.713844        19.922625   \n",
       "min           0.000000          0.000000           0.000000         0.000000   \n",
       "25%          87.000000         24.430000         166.600000        87.000000   \n",
       "50%         101.000000         30.500000         201.400000       100.000000   \n",
       "75%         114.000000         36.790000         235.300000       114.000000   \n",
       "max         165.000000         59.640000         363.700000       170.000000   \n",
       "\n",
       "       Total eve charge  Total night minutes  Total night calls  \\\n",
       "count       3333.000000          3333.000000        3333.000000   \n",
       "mean          17.083540           200.872037         100.107711   \n",
       "std            4.310668            50.573847          19.568609   \n",
       "min            0.000000            23.200000          33.000000   \n",
       "25%           14.160000           167.000000          87.000000   \n",
       "50%           17.120000           201.200000         100.000000   \n",
       "75%           20.000000           235.300000         113.000000   \n",
       "max           30.910000           395.000000         175.000000   \n",
       "\n",
       "       Total night charge  Total intl minutes  Total intl calls  \\\n",
       "count         3333.000000         3333.000000       3333.000000   \n",
       "mean             9.039325           10.237294          4.479448   \n",
       "std              2.275873            2.791840          2.461214   \n",
       "min              1.040000            0.000000          0.000000   \n",
       "25%              7.520000            8.500000          3.000000   \n",
       "50%              9.050000           10.300000          4.000000   \n",
       "75%             10.590000           12.100000          6.000000   \n",
       "max             17.770000           20.000000         20.000000   \n",
       "\n",
       "       Total intl charge  Customer service calls  \n",
       "count        3333.000000             3333.000000  \n",
       "mean            2.764581                1.562856  \n",
       "std             0.753773                1.315491  \n",
       "min             0.000000                0.000000  \n",
       "25%             2.300000                1.000000  \n",
       "50%             2.780000                1.000000  \n",
       "75%             3.270000                2.000000  \n",
       "max             5.400000                9.000000  "
      ]
     },
     "execution_count": 10,
     "metadata": {},
     "output_type": "execute_result"
    }
   ],
   "source": [
    "data.describe()"
   ]
  },
  {
   "cell_type": "code",
   "execution_count": 87,
   "id": "6cf68abd",
   "metadata": {},
   "outputs": [],
   "source": [
    "data['area_code'] = data['area_code'].astype('category')"
   ]
  },
  {
   "cell_type": "code",
   "execution_count": 88,
   "id": "00263e66",
   "metadata": {},
   "outputs": [
    {
     "name": "stdout",
     "output_type": "stream",
     "text": [
      "<class 'pandas.core.frame.DataFrame'>\n",
      "Int64Index: 3333 entries, 0 to 2665\n",
      "Data columns (total 20 columns):\n",
      " #   Column                  Non-Null Count  Dtype   \n",
      "---  ------                  --------------  -----   \n",
      " 0   state                   3333 non-null   object  \n",
      " 1   account_length          3333 non-null   int64   \n",
      " 2   area_code               3333 non-null   category\n",
      " 3   international_plan      3333 non-null   object  \n",
      " 4   voice_mail_plan         3333 non-null   object  \n",
      " 5   number_vmail_messages   3333 non-null   int64   \n",
      " 6   total_day_minutes       3333 non-null   float64 \n",
      " 7   total_day_calls         3333 non-null   int64   \n",
      " 8   total_day_charge        3333 non-null   float64 \n",
      " 9   total_eve_minutes       3333 non-null   float64 \n",
      " 10  total_eve_calls         3333 non-null   int64   \n",
      " 11  total_eve_charge        3333 non-null   float64 \n",
      " 12  total_night_minutes     3333 non-null   float64 \n",
      " 13  total_night_calls       3333 non-null   int64   \n",
      " 14  total_night_charge      3333 non-null   float64 \n",
      " 15  total_intl_minutes      3333 non-null   float64 \n",
      " 16  total_intl_calls        3333 non-null   int64   \n",
      " 17  total_intl_charge       3333 non-null   float64 \n",
      " 18  customer_service_calls  3333 non-null   int64   \n",
      " 19  churn                   3333 non-null   bool    \n",
      "dtypes: bool(1), category(1), float64(8), int64(7), object(3)\n",
      "memory usage: 501.4+ KB\n"
     ]
    }
   ],
   "source": [
    "data.info()"
   ]
  },
  {
   "cell_type": "markdown",
   "id": "279361be",
   "metadata": {},
   "source": [
    "##### Column\n",
    "- State: 고객이 주거하는 US의 주를 2글자로 표현\n",
    "- Account length: 계정이 활성화된 일수\n",
    "- Area code\n",
    "  - 지역번호, 미국은 통신사별이 아닌 지역별로 앞 번호를 할당 받음\n",
    "  - 캘리포니아와 같이 큰 주는 다시 도시별로 지역번호가 세분화됨\n",
    "  - 지역번호\n",
    "- International plan: 국제전화 요금제\n",
    "- Voice mail plan: 음성 메시지 녹음 요금제\n",
    "- Number vmail message: 음성 메시지 개수\n",
    "\n",
    "- Total day minutes: 낮 시간동안 전화한 시간\n",
    "- Total day calls: 낮 시간동안 전화한 횟수\n",
    "- Total day charge: 낮 시간 전화요금\n",
    "\n",
    "- Total eve minutes: 저녁 시간동안 전화한 시간\n",
    "- Total eve calls: 저녁 시간동안 전화한 횟수\n",
    "- Total eve charge: 저녁 시간 전화요금\n",
    "\n",
    "- Total night minutes: 밤 시간동안 전화한 시간\n",
    "- Total night calls: 밤 시간동안 전화한 횟수\n",
    "- Total night charge: 밤 시간 전화요금\n",
    "\n",
    "- Total intl minutes: 국제전화 사용시간\n",
    "- Total intl calls: 국제전화 전화횟수\n",
    "- Total intl charge: 국제전화 전화요금\n",
    "\n",
    "- Customer service calls: 고객센터가 받은 전화횟수\n",
    "- Churn: 고객 이탈 여부 True: 이탈, False: 유지"
   ]
  },
  {
   "cell_type": "code",
   "execution_count": 11,
   "id": "f74a8e5a",
   "metadata": {},
   "outputs": [
    {
     "data": {
      "text/plain": [
       "['state',\n",
       " 'account_length',\n",
       " 'area_code',\n",
       " 'international_plan',\n",
       " 'voice_mail_plan',\n",
       " 'number_vmail_messages',\n",
       " 'total_day_minutes',\n",
       " 'total_day_calls',\n",
       " 'total_day_charge',\n",
       " 'total_eve_minutes',\n",
       " 'total_eve_calls',\n",
       " 'total_eve_charge',\n",
       " 'total_night_minutes',\n",
       " 'total_night_calls',\n",
       " 'total_night_charge',\n",
       " 'total_intl_minutes',\n",
       " 'total_intl_calls',\n",
       " 'total_intl_charge',\n",
       " 'customer_service_calls',\n",
       " 'churn']"
      ]
     },
     "execution_count": 11,
     "metadata": {},
     "output_type": "execute_result"
    }
   ],
   "source": [
    "cols = data.columns.tolist()\n",
    "cols = list(map(lambda x: x.replace(' ', '_').lower(), cols))\n",
    "cols"
   ]
  },
  {
   "cell_type": "code",
   "execution_count": 12,
   "id": "d1af6c20",
   "metadata": {},
   "outputs": [
    {
     "data": {
      "text/plain": [
       "Index(['state', 'account_length', 'area_code', 'international_plan',\n",
       "       'voice_mail_plan', 'number_vmail_messages', 'total_day_minutes',\n",
       "       'total_day_calls', 'total_day_charge', 'total_eve_minutes',\n",
       "       'total_eve_calls', 'total_eve_charge', 'total_night_minutes',\n",
       "       'total_night_calls', 'total_night_charge', 'total_intl_minutes',\n",
       "       'total_intl_calls', 'total_intl_charge', 'customer_service_calls',\n",
       "       'churn'],\n",
       "      dtype='object')"
      ]
     },
     "execution_count": 12,
     "metadata": {},
     "output_type": "execute_result"
    }
   ],
   "source": [
    "data.columns = cols\n",
    "data.columns"
   ]
  },
  {
   "cell_type": "code",
   "execution_count": 13,
   "id": "86064963",
   "metadata": {},
   "outputs": [],
   "source": [
    "data.to_csv('churn.csv', index=False)"
   ]
  },
  {
   "cell_type": "markdown",
   "id": "802caed8",
   "metadata": {},
   "source": [
    "합쳐진 데이터 저장 -> churn.csv"
   ]
  },
  {
   "cell_type": "markdown",
   "id": "cc49aca1",
   "metadata": {},
   "source": [
    "## EDA"
   ]
  },
  {
   "cell_type": "markdown",
   "id": "33d39a1c",
   "metadata": {},
   "source": [
    "### Categorical Data"
   ]
  },
  {
   "cell_type": "markdown",
   "id": "73f7597e",
   "metadata": {},
   "source": [
    "#### State\n",
    "고객이 주거하는 주를 2글자로 표현"
   ]
  },
  {
   "cell_type": "code",
   "execution_count": 14,
   "id": "0e108b73",
   "metadata": {},
   "outputs": [],
   "source": [
    "state = data['state']"
   ]
  },
  {
   "cell_type": "code",
   "execution_count": 15,
   "id": "8e66d3d2",
   "metadata": {},
   "outputs": [
    {
     "data": {
      "text/plain": [
       "array(['LA', 'IN', 'NY', 'SC', 'HI', 'AK', 'MI', 'ID', 'VA', 'WI', 'MN',\n",
       "       'VT', 'MT', 'MA', 'KY', 'CO', 'AZ', 'CA', 'WA', 'NE', 'OH', 'MO',\n",
       "       'AL', 'NH', 'NM', 'OR', 'TX', 'MS', 'WY', 'FL', 'KS', 'NC', 'SD',\n",
       "       'OK', 'CT', 'RI', 'DE', 'UT', 'NV', 'DC', 'ME', 'IL', 'NJ', 'MD',\n",
       "       'WV', 'PA', 'ND', 'AR', 'TN', 'IA', 'GA'], dtype=object)"
      ]
     },
     "execution_count": 15,
     "metadata": {},
     "output_type": "execute_result"
    }
   ],
   "source": [
    "state.unique()"
   ]
  },
  {
   "cell_type": "code",
   "execution_count": 16,
   "id": "c845b392",
   "metadata": {},
   "outputs": [
    {
     "data": {
      "text/plain": [
       "WV    106\n",
       "MN     84\n",
       "NY     83\n",
       "AL     80\n",
       "OR     78\n",
       "OH     78\n",
       "WI     78\n",
       "VA     77\n",
       "WY     77\n",
       "CT     74\n",
       "MI     73\n",
       "ID     73\n",
       "VT     73\n",
       "TX     72\n",
       "UT     72\n",
       "IN     71\n",
       "KS     70\n",
       "MD     70\n",
       "MT     68\n",
       "NJ     68\n",
       "NC     68\n",
       "NV     66\n",
       "WA     66\n",
       "CO     66\n",
       "MA     65\n",
       "MS     65\n",
       "RI     65\n",
       "AZ     64\n",
       "FL     63\n",
       "MO     63\n",
       "NM     62\n",
       "ND     62\n",
       "ME     62\n",
       "OK     61\n",
       "NE     61\n",
       "DE     61\n",
       "SD     60\n",
       "SC     60\n",
       "KY     59\n",
       "IL     58\n",
       "NH     56\n",
       "AR     55\n",
       "GA     54\n",
       "DC     54\n",
       "HI     53\n",
       "TN     53\n",
       "AK     52\n",
       "LA     51\n",
       "PA     45\n",
       "IA     44\n",
       "CA     34\n",
       "Name: state, dtype: int64"
      ]
     },
     "execution_count": 16,
     "metadata": {},
     "output_type": "execute_result"
    }
   ],
   "source": [
    "state.value_counts()"
   ]
  },
  {
   "cell_type": "code",
   "execution_count": 17,
   "id": "c4e92fa2",
   "metadata": {},
   "outputs": [
    {
     "data": {
      "image/png": "[encoded data removed]",
      "text/plain": [
       "<Figure size 1440x576 with 1 Axes>"
      ]
     },
     "metadata": {
      "needs_background": "light"
     },
     "output_type": "display_data"
    }
   ],
   "source": [
    "state_mean = data.groupby('state')['churn'].mean().sort_values()\n",
    "plt.figure(figsize=(20, 8))\n",
    "plt.bar(state_mean.index, state_mean)\n",
    "plt.show()"
   ]
  },
  {
   "cell_type": "markdown",
   "id": "987ea99c",
   "metadata": {},
   "source": [
    "### Area code"
   ]
  },
  {
   "cell_type": "code",
   "execution_count": 89,
   "id": "90de2b88",
   "metadata": {},
   "outputs": [],
   "source": [
    "area_code = data['area_code']"
   ]
  },
  {
   "cell_type": "code",
   "execution_count": 90,
   "id": "db2d542d",
   "metadata": {},
   "outputs": [
    {
     "data": {
      "text/plain": [
       "[408, 415, 510]\n",
       "Categories (3, int64): [408, 415, 510]"
      ]
     },
     "execution_count": 90,
     "metadata": {},
     "output_type": "execute_result"
    }
   ],
   "source": [
    "area_code.unique()"
   ]
  },
  {
   "cell_type": "code",
   "execution_count": 91,
   "id": "a9338714",
   "metadata": {},
   "outputs": [],
   "source": [
    "area_counts = area_code.value_counts()"
   ]
  },
  {
   "cell_type": "code",
   "execution_count": 92,
   "id": "c13f4c15",
   "metadata": {},
   "outputs": [],
   "source": [
    "size = [30, 20, 15, 60]\n",
    "area_idx = area_counts.index\n",
    "area_val = area_counts.values"
   ]
  },
  {
   "cell_type": "code",
   "execution_count": 93,
   "id": "5b4eb56c",
   "metadata": {},
   "outputs": [
    {
     "data": {
      "image/png": "[encoded data removed]",
      "text/plain": [
       "<Figure size 360x360 with 1 Axes>"
      ]
     },
     "metadata": {},
     "output_type": "display_data"
    }
   ],
   "source": [
    "plt.figure(figsize=(5, 5))\n",
    "plt.pie(area_val, labels=area_idx.tolist(), autopct='%1.1f%%')\n",
    "plt.show()"
   ]
  },
  {
   "cell_type": "markdown",
   "id": "864ffe29",
   "metadata": {},
   "source": [
    "state에 따른 평균 churn이 동일하지 않음을 확인할 수 있다. <br>\n",
    "가설검정을 하지 않더라도 그래프를 통해 이들 차이가 통계적으로 유의함을 알 수 있다. <br>\n",
    "별도의 사후검정은 하지 않는다.\n",
    "- 추측: 거주하는 지역에 따라 필요한 서비스가 다를 수 있다."
   ]
  },
  {
   "cell_type": "markdown",
   "id": "d6e74c76",
   "metadata": {},
   "source": [
    "### International plan\n",
    "국제 전화 요금제"
   ]
  },
  {
   "cell_type": "code",
   "execution_count": 18,
   "id": "f426f09c",
   "metadata": {},
   "outputs": [],
   "source": [
    "intl_plan = data['international_plan']"
   ]
  },
  {
   "cell_type": "code",
   "execution_count": 19,
   "id": "71d86280",
   "metadata": {},
   "outputs": [
    {
     "data": {
      "image/png": "[encoded data removed]",
      "text/plain": [
       "<Figure size 432x288 with 1 Axes>"
      ]
     },
     "metadata": {
      "needs_background": "light"
     },
     "output_type": "display_data"
    }
   ],
   "source": [
    "mean_intl_plan = data.groupby('international_plan')['churn'].mean()\n",
    "plt.bar(mean_intl_plan.index, mean_intl_plan)\n",
    "plt.show()"
   ]
  },
  {
   "cell_type": "markdown",
   "id": "430a07b7",
   "metadata": {},
   "source": [
    "international plan을 사용하던 집단의 고객 이탈이 더 높음을 알 수 있다. <br>\n",
    "- 추측: 국제 전화를 사용하는 고객들이 요금제를 만족하지 못한다."
   ]
  },
  {
   "cell_type": "markdown",
   "id": "7c8f7de0",
   "metadata": {},
   "source": [
    "### Voice mail plan\n",
    "음성 메시지 녹음 요금제"
   ]
  },
  {
   "cell_type": "code",
   "execution_count": 20,
   "id": "494edd10",
   "metadata": {},
   "outputs": [],
   "source": [
    "vmail_plan = data['voice_mail_plan']"
   ]
  },
  {
   "cell_type": "code",
   "execution_count": 21,
   "id": "4d96ade0",
   "metadata": {},
   "outputs": [
    {
     "data": {
      "text/plain": [
       "array(['No', 'Yes'], dtype=object)"
      ]
     },
     "execution_count": 21,
     "metadata": {},
     "output_type": "execute_result"
    }
   ],
   "source": [
    "vmail_plan.unique()"
   ]
  },
  {
   "cell_type": "code",
   "execution_count": 22,
   "id": "9ed0b78c",
   "metadata": {},
   "outputs": [
    {
     "data": {
      "image/png": "[encoded data removed]",
      "text/plain": [
       "<Figure size 432x288 with 1 Axes>"
      ]
     },
     "metadata": {
      "needs_background": "light"
     },
     "output_type": "display_data"
    }
   ],
   "source": [
    "mean_vmail_plan = data.groupby('voice_mail_plan')['churn'].mean()\n",
    "plt.bar(mean_vmail_plan.index, mean_vmail_plan)\n",
    "plt.show()"
   ]
  },
  {
   "cell_type": "markdown",
   "id": "2fbf9b63",
   "metadata": {},
   "source": [
    "voice mail plan을 사용하지 않던 집단의 고객 이탈이 2배 더 높음을 알 수 있다. <br>\n",
    "- 추측: voice mail을 사용하지 않는 사람들은 가격이 더 저렴한 통신사로 이동했을 수 있다."
   ]
  },
  {
   "cell_type": "markdown",
   "id": "05372649",
   "metadata": {},
   "source": [
    "## Numerical Data\n",
    "- mean, std, min, mid, max\n",
    "- Quartiles -> q1, q3, IQR\n",
    "- Skewness\n",
    "- Outlier\n",
    "- \\# of upper outlier, lower outlier\n",
    "- box plot\n",
    "- histogram"
   ]
  },
  {
   "cell_type": "code",
   "execution_count": 28,
   "id": "b86defe5",
   "metadata": {},
   "outputs": [
    {
     "data": {
      "image/png": "[encoded data removed]",
      "text/plain": [
       "<Figure size 432x288 with 1 Axes>"
      ]
     },
     "metadata": {
      "needs_background": "light"
     },
     "output_type": "display_data"
    }
   ],
   "source": [
    "sns.boxplot(x=data['account_length'])\n",
    "plt.show()"
   ]
  },
  {
   "cell_type": "code",
   "execution_count": 98,
   "id": "345da456",
   "metadata": {},
   "outputs": [],
   "source": [
    "def numeric_data(col_name: str) -> None:\n",
    "    global data\n",
    "    print()\n",
    "    print('*' * 25 + col_name + '*' * 25)\n",
    "    print()\n",
    "    print(data[col_name].describe()[['mean', 'std', 'min', '50%', 'max']])\n",
    "    print()\n",
    "    \n",
    "    print('*' * 25 + 'Quartiles' + '*' * 25)\n",
    "    print()\n",
    "    q1 = data[col_name].quantile(q=0.25)\n",
    "    q3 = data[col_name].quantile(q=0.75)\n",
    "    iqr = q3 - q1\n",
    "    print('Q1: ', q1)\n",
    "    print('Q3: ', q3)\n",
    "    print('IQR: ', iqr)\n",
    "    print()\n",
    "    \n",
    "    print('*' * 25 + 'Outlier' + '*' * 25)\n",
    "    print()\n",
    "    upper = q3 + 1.5 * iqr\n",
    "    lower = q1 - 1.5 * iqr\n",
    "    print('Num of outliers in upper: ', data[data[col_name] > upper][col_name].count())\n",
    "    print('Num of outliers in lower: ', data[data[col_name] < lower][col_name].count())\n",
    "    print('% of outlier in upper: ', \n",
    "          np.round(data[data[col_name] > upper][col_name].count() / len(data) * 100), '%')\n",
    "    print('% of outlier in lower: ',\n",
    "         np.round(data[data[col_name] < lower][col_name].count() / len(data) * 100), '%')\n",
    "    print()\n",
    "    \n",
    "    print('*' * 25 + 'Skewness' + '*' * 25)\n",
    "    print()\n",
    "    print(data[col_name].skew())\n",
    "    print()\n",
    "    \n",
    "    print('*' * 25 + 'Box plot' + '*' * 25)\n",
    "    print()\n",
    "    plt.figure()\n",
    "    ax = sns.boxplot(x=data[col_name])\n",
    "    plt.show()\n",
    "    print()\n",
    "    \n",
    "    print('*' * 25 + 'Box plot' + '*' * 25)\n",
    "    print()\n",
    "    plt.figure()\n",
    "    ax = sns.displot(data[col_name], kde=False)\n",
    "    plt.show()\n",
    "    print()"
   ]
  },
  {
   "cell_type": "code",
   "execution_count": 99,
   "id": "badebbd4",
   "metadata": {},
   "outputs": [
    {
     "name": "stdout",
     "output_type": "stream",
     "text": [
      "<class 'pandas.core.frame.DataFrame'>\n",
      "Int64Index: 3333 entries, 0 to 2665\n",
      "Data columns (total 20 columns):\n",
      " #   Column                  Non-Null Count  Dtype   \n",
      "---  ------                  --------------  -----   \n",
      " 0   state                   3333 non-null   object  \n",
      " 1   account_length          3333 non-null   int64   \n",
      " 2   area_code               3333 non-null   category\n",
      " 3   international_plan      3333 non-null   object  \n",
      " 4   voice_mail_plan         3333 non-null   object  \n",
      " 5   number_vmail_messages   3333 non-null   int64   \n",
      " 6   total_day_minutes       3333 non-null   float64 \n",
      " 7   total_day_calls         3333 non-null   int64   \n",
      " 8   total_day_charge        3333 non-null   float64 \n",
      " 9   total_eve_minutes       3333 non-null   float64 \n",
      " 10  total_eve_calls         3333 non-null   int64   \n",
      " 11  total_eve_charge        3333 non-null   float64 \n",
      " 12  total_night_minutes     3333 non-null   float64 \n",
      " 13  total_night_calls       3333 non-null   int64   \n",
      " 14  total_night_charge      3333 non-null   float64 \n",
      " 15  total_intl_minutes      3333 non-null   float64 \n",
      " 16  total_intl_calls        3333 non-null   int64   \n",
      " 17  total_intl_charge       3333 non-null   float64 \n",
      " 18  customer_service_calls  3333 non-null   int64   \n",
      " 19  churn                   3333 non-null   bool    \n",
      "dtypes: bool(1), category(1), float64(8), int64(7), object(3)\n",
      "memory usage: 501.4+ KB\n"
     ]
    }
   ],
   "source": [
    "data.info()"
   ]
  },
  {
   "cell_type": "code",
   "execution_count": 100,
   "id": "87924931",
   "metadata": {},
   "outputs": [],
   "source": [
    "numeric_cols = data.select_dtypes(['int', 'float']).columns"
   ]
  },
  {
   "cell_type": "code",
   "execution_count": 101,
   "id": "4e2cb803",
   "metadata": {
    "scrolled": true
   },
   "outputs": [
    {
     "name": "stdout",
     "output_type": "stream",
     "text": [
      "\n",
      "*************************account_length*************************\n",
      "\n",
      "mean    101.064806\n",
      "std      39.822106\n",
      "min       1.000000\n",
      "50%     101.000000\n",
      "max     243.000000\n",
      "Name: account_length, dtype: float64\n",
      "\n",
      "*************************Quartiles*************************\n",
      "\n",
      "Q1:  74.0\n",
      "Q3:  127.0\n",
      "IQR:  53.0\n",
      "\n",
      "*************************Outlier*************************\n",
      "\n",
      "Num of outliers in upper:  18\n",
      "Num of outliers in lower:  0\n",
      "% of outlier in upper:  1.0 %\n",
      "% of outlier in lower:  0.0 %\n",
      "\n",
      "*************************Skewness*************************\n",
      "\n",
      "0.09660629423135145\n",
      "\n",
      "*************************Box plot*************************\n",
      "\n"
     ]
    },
    {
     "data": {
      "image/png": "[encoded data removed]",
      "text/plain": [
       "<Figure size 432x288 with 1 Axes>"
      ]
     },
     "metadata": {
      "needs_background": "light"
     },
     "output_type": "display_data"
    },
    {
     "name": "stdout",
     "output_type": "stream",
     "text": [
      "\n",
      "*************************Box plot*************************\n",
      "\n"
     ]
    },
    {
     "data": {
      "text/plain": [
       "<Figure size 432x288 with 0 Axes>"
      ]
     },
     "metadata": {},
     "output_type": "display_data"
    },
    {
     "data": {
      "image/png": "[encoded data removed]",
      "text/plain": [
       "<Figure size 360x360 with 1 Axes>"
      ]
     },
     "metadata": {
      "needs_background": "light"
     },
     "output_type": "display_data"
    },
    {
     "name": "stdout",
     "output_type": "stream",
     "text": [
      "\n",
      "\n",
      "*************************number_vmail_messages*************************\n",
      "\n",
      "mean     8.099010\n",
      "std     13.688365\n",
      "min      0.000000\n",
      "50%      0.000000\n",
      "max     51.000000\n",
      "Name: number_vmail_messages, dtype: float64\n",
      "\n",
      "*************************Quartiles*************************\n",
      "\n",
      "Q1:  0.0\n",
      "Q3:  20.0\n",
      "IQR:  20.0\n",
      "\n",
      "*************************Outlier*************************\n",
      "\n",
      "Num of outliers in upper:  1\n",
      "Num of outliers in lower:  0\n",
      "% of outlier in upper:  0.0 %\n",
      "% of outlier in lower:  0.0 %\n",
      "\n",
      "*************************Skewness*************************\n",
      "\n",
      "1.2648236337102592\n",
      "\n",
      "*************************Box plot*************************\n",
      "\n"
     ]
    },
    {
     "data": {
      "image/png": "[encoded data removed]",
      "text/plain": [
       "<Figure size 432x288 with 1 Axes>"
      ]
     },
     "metadata": {
      "needs_background": "light"
     },
     "output_type": "display_data"
    },
    {
     "name": "stdout",
     "output_type": "stream",
     "text": [
      "\n",
      "*************************Box plot*************************\n",
      "\n"
     ]
    },
    {
     "data": {
      "text/plain": [
       "<Figure size 432x288 with 0 Axes>"
      ]
     },
     "metadata": {},
     "output_type": "display_data"
    },
    {
     "data": {
      "image/png": "[encoded data removed]",
      "text/plain": [
       "<Figure size 360x360 with 1 Axes>"
      ]
     },
     "metadata": {
      "needs_background": "light"
     },
     "output_type": "display_data"
    },
    {
     "name": "stdout",
     "output_type": "stream",
     "text": [
      "\n",
      "\n",
      "*************************total_day_minutes*************************\n",
      "\n",
      "mean    179.775098\n",
      "std      54.467389\n",
      "min       0.000000\n",
      "50%     179.400000\n",
      "max     350.800000\n",
      "Name: total_day_minutes, dtype: float64\n",
      "\n",
      "*************************Quartiles*************************\n",
      "\n",
      "Q1:  143.7\n",
      "Q3:  216.4\n",
      "IQR:  72.70000000000002\n",
      "\n",
      "*************************Outlier*************************\n",
      "\n",
      "Num of outliers in upper:  11\n",
      "Num of outliers in lower:  14\n",
      "% of outlier in upper:  0.0 %\n",
      "% of outlier in lower:  0.0 %\n",
      "\n",
      "*************************Skewness*************************\n",
      "\n",
      "-0.029077067143192057\n",
      "\n",
      "*************************Box plot*************************\n",
      "\n"
     ]
    },
    {
     "data": {
      "image/png": "[encoded data removed]",
      "text/plain": [
       "<Figure size 432x288 with 1 Axes>"
      ]
     },
     "metadata": {
      "needs_background": "light"
     },
     "output_type": "display_data"
    },
    {
     "name": "stdout",
     "output_type": "stream",
     "text": [
      "\n",
      "*************************Box plot*************************\n",
      "\n"
     ]
    },
    {
     "data": {
      "text/plain": [
       "<Figure size 432x288 with 0 Axes>"
      ]
     },
     "metadata": {},
     "output_type": "display_data"
    },
    {
     "data": {
      "image/png": "[encoded data removed]",
      "text/plain": [
       "<Figure size 360x360 with 1 Axes>"
      ]
     },
     "metadata": {
      "needs_background": "light"
     },
     "output_type": "display_data"
    },
    {
     "name": "stdout",
     "output_type": "stream",
     "text": [
      "\n",
      "\n",
      "*************************total_day_calls*************************\n",
      "\n",
      "mean    100.435644\n",
      "std      20.069084\n",
      "min       0.000000\n",
      "50%     101.000000\n",
      "max     165.000000\n",
      "Name: total_day_calls, dtype: float64\n",
      "\n",
      "*************************Quartiles*************************\n",
      "\n",
      "Q1:  87.0\n",
      "Q3:  114.0\n",
      "IQR:  27.0\n",
      "\n",
      "*************************Outlier*************************\n",
      "\n",
      "Num of outliers in upper:  8\n",
      "Num of outliers in lower:  15\n",
      "% of outlier in upper:  0.0 %\n",
      "% of outlier in lower:  0.0 %\n",
      "\n",
      "*************************Skewness*************************\n",
      "\n",
      "-0.11178663903979906\n",
      "\n",
      "*************************Box plot*************************\n",
      "\n"
     ]
    },
    {
     "data": {
      "image/png": "[encoded data removed]",
      "text/plain": [
       "<Figure size 432x288 with 1 Axes>"
      ]
     },
     "metadata": {
      "needs_background": "light"
     },
     "output_type": "display_data"
    },
    {
     "name": "stdout",
     "output_type": "stream",
     "text": [
      "\n",
      "*************************Box plot*************************\n",
      "\n"
     ]
    },
    {
     "data": {
      "text/plain": [
       "<Figure size 432x288 with 0 Axes>"
      ]
     },
     "metadata": {},
     "output_type": "display_data"
    },
    {
     "data": {
      "image/png": "[encoded data removed]",
      "text/plain": [
       "<Figure size 360x360 with 1 Axes>"
      ]
     },
     "metadata": {
      "needs_background": "light"
     },
     "output_type": "display_data"
    },
    {
     "name": "stdout",
     "output_type": "stream",
     "text": [
      "\n",
      "\n",
      "*************************total_day_charge*************************\n",
      "\n",
      "mean    30.562307\n",
      "std      9.259435\n",
      "min      0.000000\n",
      "50%     30.500000\n",
      "max     59.640000\n",
      "Name: total_day_charge, dtype: float64\n",
      "\n",
      "*************************Quartiles*************************\n",
      "\n",
      "Q1:  24.43\n",
      "Q3:  36.79\n",
      "IQR:  12.36\n",
      "\n",
      "*************************Outlier*************************\n",
      "\n",
      "Num of outliers in upper:  11\n",
      "Num of outliers in lower:  14\n",
      "% of outlier in upper:  0.0 %\n",
      "% of outlier in lower:  0.0 %\n",
      "\n",
      "*************************Skewness*************************\n",
      "\n",
      "-0.02908326834327384\n",
      "\n",
      "*************************Box plot*************************\n",
      "\n"
     ]
    },
    {
     "data": {
      "image/png": "[encoded data removed]",
      "text/plain": [
       "<Figure size 432x288 with 1 Axes>"
      ]
     },
     "metadata": {
      "needs_background": "light"
     },
     "output_type": "display_data"
    },
    {
     "name": "stdout",
     "output_type": "stream",
     "text": [
      "\n",
      "*************************Box plot*************************\n",
      "\n"
     ]
    },
    {
     "data": {
      "text/plain": [
       "<Figure size 432x288 with 0 Axes>"
      ]
     },
     "metadata": {},
     "output_type": "display_data"
    },
    {
     "data": {
      "image/png": "[encoded data removed]",
      "text/plain": [
       "<Figure size 360x360 with 1 Axes>"
      ]
     },
     "metadata": {
      "needs_background": "light"
     },
     "output_type": "display_data"
    },
    {
     "name": "stdout",
     "output_type": "stream",
     "text": [
      "\n",
      "\n",
      "*************************total_eve_minutes*************************\n",
      "\n",
      "mean    200.980348\n",
      "std      50.713844\n",
      "min       0.000000\n",
      "50%     201.400000\n",
      "max     363.700000\n",
      "Name: total_eve_minutes, dtype: float64\n",
      "\n",
      "*************************Quartiles*************************\n",
      "\n",
      "Q1:  166.6\n",
      "Q3:  235.3\n",
      "IQR:  68.70000000000002\n",
      "\n",
      "*************************Outlier*************************\n",
      "\n",
      "Num of outliers in upper:  10\n",
      "Num of outliers in lower:  14\n",
      "% of outlier in upper:  0.0 %\n",
      "% of outlier in lower:  0.0 %\n",
      "\n",
      "*************************Skewness*************************\n",
      "\n",
      "-0.023877456078123447\n",
      "\n",
      "*************************Box plot*************************\n",
      "\n"
     ]
    },
    {
     "data": {
      "image/png": "[encoded data removed]",
      "text/plain": [
       "<Figure size 432x288 with 1 Axes>"
      ]
     },
     "metadata": {
      "needs_background": "light"
     },
     "output_type": "display_data"
    },
    {
     "name": "stdout",
     "output_type": "stream",
     "text": [
      "\n",
      "*************************Box plot*************************\n",
      "\n"
     ]
    },
    {
     "data": {
      "text/plain": [
       "<Figure size 432x288 with 0 Axes>"
      ]
     },
     "metadata": {},
     "output_type": "display_data"
    },
    {
     "data": {
      "image/png": "[encoded data removed]",
      "text/plain": [
       "<Figure size 360x360 with 1 Axes>"
      ]
     },
     "metadata": {
      "needs_background": "light"
     },
     "output_type": "display_data"
    },
    {
     "name": "stdout",
     "output_type": "stream",
     "text": [
      "\n",
      "\n",
      "*************************total_eve_calls*************************\n",
      "\n",
      "mean    100.114311\n",
      "std      19.922625\n",
      "min       0.000000\n",
      "50%     100.000000\n",
      "max     170.000000\n",
      "Name: total_eve_calls, dtype: float64\n",
      "\n",
      "*************************Quartiles*************************\n",
      "\n",
      "Q1:  87.0\n",
      "Q3:  114.0\n",
      "IQR:  27.0\n",
      "\n",
      "*************************Outlier*************************\n",
      "\n",
      "Num of outliers in upper:  9\n",
      "Num of outliers in lower:  11\n",
      "% of outlier in upper:  0.0 %\n",
      "% of outlier in lower:  0.0 %\n",
      "\n",
      "*************************Skewness*************************\n",
      "\n",
      "-0.05556313904148766\n",
      "\n",
      "*************************Box plot*************************\n",
      "\n"
     ]
    },
    {
     "data": {
      "image/png": "[encoded data removed]",
      "text/plain": [
       "<Figure size 432x288 with 1 Axes>"
      ]
     },
     "metadata": {
      "needs_background": "light"
     },
     "output_type": "display_data"
    },
    {
     "name": "stdout",
     "output_type": "stream",
     "text": [
      "\n",
      "*************************Box plot*************************\n",
      "\n"
     ]
    },
    {
     "data": {
      "text/plain": [
       "<Figure size 432x288 with 0 Axes>"
      ]
     },
     "metadata": {},
     "output_type": "display_data"
    },
    {
     "data": {
      "image/png": "[encoded data removed]",
      "text/plain": [
       "<Figure size 360x360 with 1 Axes>"
      ]
     },
     "metadata": {
      "needs_background": "light"
     },
     "output_type": "display_data"
    },
    {
     "name": "stdout",
     "output_type": "stream",
     "text": [
      "\n",
      "\n",
      "*************************total_eve_charge*************************\n",
      "\n",
      "mean    17.083540\n",
      "std      4.310668\n",
      "min      0.000000\n",
      "50%     17.120000\n",
      "max     30.910000\n",
      "Name: total_eve_charge, dtype: float64\n",
      "\n",
      "*************************Quartiles*************************\n",
      "\n",
      "Q1:  14.16\n",
      "Q3:  20.0\n",
      "IQR:  5.84\n",
      "\n",
      "*************************Outlier*************************\n",
      "\n",
      "Num of outliers in upper:  10\n",
      "Num of outliers in lower:  14\n",
      "% of outlier in upper:  0.0 %\n",
      "% of outlier in lower:  0.0 %\n",
      "\n",
      "*************************Skewness*************************\n",
      "\n",
      "-0.02385798900760956\n",
      "\n",
      "*************************Box plot*************************\n",
      "\n"
     ]
    },
    {
     "data": {
      "image/png": "[encoded data removed]",
      "text/plain": [
       "<Figure size 432x288 with 1 Axes>"
      ]
     },
     "metadata": {
      "needs_background": "light"
     },
     "output_type": "display_data"
    },
    {
     "name": "stdout",
     "output_type": "stream",
     "text": [
      "\n",
      "*************************Box plot*************************\n",
      "\n"
     ]
    },
    {
     "data": {
      "text/plain": [
       "<Figure size 432x288 with 0 Axes>"
      ]
     },
     "metadata": {},
     "output_type": "display_data"
    },
    {
     "data": {
      "image/png": "[encoded data removed]",
      "text/plain": [
       "<Figure size 360x360 with 1 Axes>"
      ]
     },
     "metadata": {
      "needs_background": "light"
     },
     "output_type": "display_data"
    },
    {
     "name": "stdout",
     "output_type": "stream",
     "text": [
      "\n",
      "\n",
      "*************************total_night_minutes*************************\n",
      "\n",
      "mean    200.872037\n",
      "std      50.573847\n",
      "min      23.200000\n",
      "50%     201.200000\n",
      "max     395.000000\n",
      "Name: total_night_minutes, dtype: float64\n",
      "\n",
      "*************************Quartiles*************************\n",
      "\n",
      "Q1:  167.0\n",
      "Q3:  235.3\n",
      "IQR:  68.30000000000001\n",
      "\n",
      "*************************Outlier*************************\n",
      "\n",
      "Num of outliers in upper:  15\n",
      "Num of outliers in lower:  15\n",
      "% of outlier in upper:  0.0 %\n",
      "% of outlier in lower:  0.0 %\n",
      "\n",
      "*************************Skewness*************************\n",
      "\n",
      "0.0089212910654941\n",
      "\n",
      "*************************Box plot*************************\n",
      "\n"
     ]
    },
    {
     "data": {
      "image/png": "[encoded data removed]",
      "text/plain": [
       "<Figure size 432x288 with 1 Axes>"
      ]
     },
     "metadata": {
      "needs_background": "light"
     },
     "output_type": "display_data"
    },
    {
     "name": "stdout",
     "output_type": "stream",
     "text": [
      "\n",
      "*************************Box plot*************************\n",
      "\n"
     ]
    },
    {
     "data": {
      "text/plain": [
       "<Figure size 432x288 with 0 Axes>"
      ]
     },
     "metadata": {},
     "output_type": "display_data"
    },
    {
     "data": {
      "image/png": "[encoded data removed]",
      "text/plain": [
       "<Figure size 360x360 with 1 Axes>"
      ]
     },
     "metadata": {
      "needs_background": "light"
     },
     "output_type": "display_data"
    },
    {
     "name": "stdout",
     "output_type": "stream",
     "text": [
      "\n",
      "\n",
      "*************************total_night_calls*************************\n",
      "\n",
      "mean    100.107711\n",
      "std      19.568609\n",
      "min      33.000000\n",
      "50%     100.000000\n",
      "max     175.000000\n",
      "Name: total_night_calls, dtype: float64\n",
      "\n",
      "*************************Quartiles*************************\n",
      "\n",
      "Q1:  87.0\n",
      "Q3:  113.0\n",
      "IQR:  26.0\n",
      "\n",
      "*************************Outlier*************************\n",
      "\n",
      "Num of outliers in upper:  15\n",
      "Num of outliers in lower:  7\n",
      "% of outlier in upper:  0.0 %\n",
      "% of outlier in lower:  0.0 %\n",
      "\n",
      "*************************Skewness*************************\n",
      "\n",
      "0.03249957015209055\n",
      "\n",
      "*************************Box plot*************************\n",
      "\n"
     ]
    },
    {
     "data": {
      "image/png": "[encoded data removed]",
      "text/plain": [
       "<Figure size 432x288 with 1 Axes>"
      ]
     },
     "metadata": {
      "needs_background": "light"
     },
     "output_type": "display_data"
    },
    {
     "name": "stdout",
     "output_type": "stream",
     "text": [
      "\n",
      "*************************Box plot*************************\n",
      "\n"
     ]
    },
    {
     "data": {
      "text/plain": [
       "<Figure size 432x288 with 0 Axes>"
      ]
     },
     "metadata": {},
     "output_type": "display_data"
    },
    {
     "data": {
      "image/png": "[encoded data removed]",
      "text/plain": [
       "<Figure size 360x360 with 1 Axes>"
      ]
     },
     "metadata": {
      "needs_background": "light"
     },
     "output_type": "display_data"
    },
    {
     "name": "stdout",
     "output_type": "stream",
     "text": [
      "\n",
      "\n",
      "*************************total_night_charge*************************\n",
      "\n",
      "mean     9.039325\n",
      "std      2.275873\n",
      "min      1.040000\n",
      "50%      9.050000\n",
      "max     17.770000\n",
      "Name: total_night_charge, dtype: float64\n",
      "\n",
      "*************************Quartiles*************************\n",
      "\n",
      "Q1:  7.52\n",
      "Q3:  10.59\n",
      "IQR:  3.0700000000000003\n",
      "\n",
      "*************************Outlier*************************\n",
      "\n",
      "Num of outliers in upper:  15\n",
      "Num of outliers in lower:  15\n",
      "% of outlier in upper:  0.0 %\n",
      "% of outlier in lower:  0.0 %\n",
      "\n",
      "*************************Skewness*************************\n",
      "\n",
      "0.00888623676921701\n",
      "\n",
      "*************************Box plot*************************\n",
      "\n"
     ]
    },
    {
     "data": {
      "image/png": "[encoded data removed]",
      "text/plain": [
       "<Figure size 432x288 with 1 Axes>"
      ]
     },
     "metadata": {
      "needs_background": "light"
     },
     "output_type": "display_data"
    },
    {
     "name": "stdout",
     "output_type": "stream",
     "text": [
      "\n",
      "*************************Box plot*************************\n",
      "\n"
     ]
    },
    {
     "data": {
      "text/plain": [
       "<Figure size 432x288 with 0 Axes>"
      ]
     },
     "metadata": {},
     "output_type": "display_data"
    },
    {
     "data": {
      "image/png": "[encoded data removed]",
      "text/plain": [
       "<Figure size 360x360 with 1 Axes>"
      ]
     },
     "metadata": {
      "needs_background": "light"
     },
     "output_type": "display_data"
    },
    {
     "name": "stdout",
     "output_type": "stream",
     "text": [
      "\n",
      "\n",
      "*************************total_intl_minutes*************************\n",
      "\n",
      "mean    10.237294\n",
      "std      2.791840\n",
      "min      0.000000\n",
      "50%     10.300000\n",
      "max     20.000000\n",
      "Name: total_intl_minutes, dtype: float64\n",
      "\n",
      "*************************Quartiles*************************\n",
      "\n",
      "Q1:  8.5\n",
      "Q3:  12.1\n",
      "IQR:  3.5999999999999996\n",
      "\n",
      "*************************Outlier*************************\n",
      "\n",
      "Num of outliers in upper:  14\n",
      "Num of outliers in lower:  32\n",
      "% of outlier in upper:  0.0 %\n",
      "% of outlier in lower:  1.0 %\n",
      "\n",
      "*************************Skewness*************************\n",
      "\n",
      "-0.24513593948618564\n",
      "\n",
      "*************************Box plot*************************\n",
      "\n"
     ]
    },
    {
     "data": {
      "image/png": "[encoded data removed]",
      "text/plain": [
       "<Figure size 432x288 with 1 Axes>"
      ]
     },
     "metadata": {
      "needs_background": "light"
     },
     "output_type": "display_data"
    },
    {
     "name": "stdout",
     "output_type": "stream",
     "text": [
      "\n",
      "*************************Box plot*************************\n",
      "\n"
     ]
    },
    {
     "data": {
      "text/plain": [
       "<Figure size 432x288 with 0 Axes>"
      ]
     },
     "metadata": {},
     "output_type": "display_data"
    },
    {
     "data": {
      "image/png": "[encoded data removed]",
      "text/plain": [
       "<Figure size 360x360 with 1 Axes>"
      ]
     },
     "metadata": {
      "needs_background": "light"
     },
     "output_type": "display_data"
    },
    {
     "name": "stdout",
     "output_type": "stream",
     "text": [
      "\n",
      "\n",
      "*************************total_intl_calls*************************\n",
      "\n",
      "mean     4.479448\n",
      "std      2.461214\n",
      "min      0.000000\n",
      "50%      4.000000\n",
      "max     20.000000\n",
      "Name: total_intl_calls, dtype: float64\n",
      "\n",
      "*************************Quartiles*************************\n",
      "\n",
      "Q1:  3.0\n",
      "Q3:  6.0\n",
      "IQR:  3.0\n",
      "\n",
      "*************************Outlier*************************\n",
      "\n",
      "Num of outliers in upper:  78\n",
      "Num of outliers in lower:  0\n",
      "% of outlier in upper:  2.0 %\n",
      "% of outlier in lower:  0.0 %\n",
      "\n",
      "*************************Skewness*************************\n",
      "\n",
      "1.3214781658271222\n",
      "\n",
      "*************************Box plot*************************\n",
      "\n"
     ]
    },
    {
     "data": {
      "image/png": "[encoded data removed]",
      "text/plain": [
       "<Figure size 432x288 with 1 Axes>"
      ]
     },
     "metadata": {
      "needs_background": "light"
     },
     "output_type": "display_data"
    },
    {
     "name": "stdout",
     "output_type": "stream",
     "text": [
      "\n",
      "*************************Box plot*************************\n",
      "\n"
     ]
    },
    {
     "data": {
      "text/plain": [
       "<Figure size 432x288 with 0 Axes>"
      ]
     },
     "metadata": {},
     "output_type": "display_data"
    },
    {
     "data": {
      "image/png": "[encoded data removed]",
      "text/plain": [
       "<Figure size 360x360 with 1 Axes>"
      ]
     },
     "metadata": {
      "needs_background": "light"
     },
     "output_type": "display_data"
    },
    {
     "name": "stdout",
     "output_type": "stream",
     "text": [
      "\n",
      "\n",
      "*************************total_intl_charge*************************\n",
      "\n",
      "mean    2.764581\n",
      "std     0.753773\n",
      "min     0.000000\n",
      "50%     2.780000\n",
      "max     5.400000\n",
      "Name: total_intl_charge, dtype: float64\n",
      "\n",
      "*************************Quartiles*************************\n",
      "\n",
      "Q1:  2.3\n",
      "Q3:  3.27\n",
      "IQR:  0.9700000000000002\n",
      "\n",
      "*************************Outlier*************************\n",
      "\n",
      "Num of outliers in upper:  17\n",
      "Num of outliers in lower:  32\n",
      "% of outlier in upper:  1.0 %\n",
      "% of outlier in lower:  1.0 %\n",
      "\n",
      "*************************Skewness*************************\n",
      "\n",
      "-0.24528650827172832\n",
      "\n",
      "*************************Box plot*************************\n",
      "\n"
     ]
    },
    {
     "data": {
      "image/png": "[encoded data removed]",
      "text/plain": [
       "<Figure size 432x288 with 1 Axes>"
      ]
     },
     "metadata": {
      "needs_background": "light"
     },
     "output_type": "display_data"
    },
    {
     "name": "stdout",
     "output_type": "stream",
     "text": [
      "\n",
      "*************************Box plot*************************\n",
      "\n"
     ]
    },
    {
     "data": {
      "text/plain": [
       "<Figure size 432x288 with 0 Axes>"
      ]
     },
     "metadata": {},
     "output_type": "display_data"
    },
    {
     "data": {
      "image/png": "[encoded data removed]",
      "text/plain": [
       "<Figure size 360x360 with 1 Axes>"
      ]
     },
     "metadata": {
      "needs_background": "light"
     },
     "output_type": "display_data"
    },
    {
     "name": "stdout",
     "output_type": "stream",
     "text": [
      "\n",
      "\n",
      "*************************customer_service_calls*************************\n",
      "\n",
      "mean    1.562856\n",
      "std     1.315491\n",
      "min     0.000000\n",
      "50%     1.000000\n",
      "max     9.000000\n",
      "Name: customer_service_calls, dtype: float64\n",
      "\n",
      "*************************Quartiles*************************\n",
      "\n",
      "Q1:  1.0\n",
      "Q3:  2.0\n",
      "IQR:  1.0\n",
      "\n",
      "*************************Outlier*************************\n",
      "\n",
      "Num of outliers in upper:  267\n",
      "Num of outliers in lower:  0\n",
      "% of outlier in upper:  8.0 %\n",
      "% of outlier in lower:  0.0 %\n",
      "\n",
      "*************************Skewness*************************\n",
      "\n",
      "1.0913594824728512\n",
      "\n",
      "*************************Box plot*************************\n",
      "\n"
     ]
    },
    {
     "data": {
      "image/png": "[encoded data removed]",
      "text/plain": [
       "<Figure size 432x288 with 1 Axes>"
      ]
     },
     "metadata": {
      "needs_background": "light"
     },
     "output_type": "display_data"
    },
    {
     "name": "stdout",
     "output_type": "stream",
     "text": [
      "\n",
      "*************************Box plot*************************\n",
      "\n"
     ]
    },
    {
     "data": {
      "text/plain": [
       "<Figure size 432x288 with 0 Axes>"
      ]
     },
     "metadata": {},
     "output_type": "display_data"
    },
    {
     "data": {
      "image/png": "[encoded data removed]",
      "text/plain": [
       "<Figure size 360x360 with 1 Axes>"
      ]
     },
     "metadata": {
      "needs_background": "light"
     },
     "output_type": "display_data"
    },
    {
     "name": "stdout",
     "output_type": "stream",
     "text": [
      "\n"
     ]
    }
   ],
   "source": [
    "for col in numeric_cols:\n",
    "    numeric_data(col)"
   ]
  },
  {
   "cell_type": "code",
   "execution_count": null,
   "id": "57412fd6",
   "metadata": {},
   "outputs": [],
   "source": []
  }
 ],
 "metadata": {
  "kernelspec": {
   "display_name": "Python 3 (ipykernel)",
   "language": "python",
   "name": "python3"
  },
  "language_info": {
   "codemirror_mode": {
    "name": "ipython",
    "version": 3
   },
   "file_extension": ".py",
   "mimetype": "text/x-python",
   "name": "python",
   "nbconvert_exporter": "python",
   "pygments_lexer": "ipython3",
   "version": "3.9.12"
  }
 },
 "nbformat": 4,
 "nbformat_minor": 5
}
